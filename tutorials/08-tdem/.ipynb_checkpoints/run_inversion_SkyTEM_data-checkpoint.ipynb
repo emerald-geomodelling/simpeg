{
 "cells": [
  {
   "cell_type": "code",
   "execution_count": 2,
   "id": "16f6ab59",
   "metadata": {},
   "outputs": [],
   "source": [
    "import numpy as np\n",
    "import pandas as pd\n",
    "import matplotlib.pyplot as plt\n",
    "from matplotlib.colors import LogNorm\n",
    "import read_gex_file\n",
    "#from . import read_work_bench_xyz_mod\n",
    "from discretize import TensorMesh\n",
    "import numpy as np\n",
    "import SimPEG\n",
    "import SimPEG.electromagnetics.time_domain as tdem\n",
    "from SimPEG.electromagnetics.utils.em1d_utils import get_2d_mesh\n",
    "from pymatsolver import PardisoSolver"
   ]
  },
  {
   "cell_type": "code",
   "execution_count": 3,
   "id": "57dbf734",
   "metadata": {},
   "outputs": [],
   "source": [
    "n_cpu = 4\n",
    "nskip = 1\n",
    "rho_ref = 'rho_initial'\n",
    "rho_upper = 1000\n",
    "rho_lower = 0.3\n",
    "alpha_s,alpha_x,alpha_y = (0.1, 1, 1)\n",
    "maxIter = 30\n",
    "maxIterCG = 30"
   ]
  },
  {
   "cell_type": "raw",
   "id": "d3829afe",
   "metadata": {},
   "source": [
    "df_rho, topo, hz, resistivity, line = read_work_bench_xyz_mod('./2017/MCWD3_SCI1i_MOD_inv.xyz')"
   ]
  },
  {
   "cell_type": "code",
   "execution_count": null,
   "id": "94f10491",
   "metadata": {},
   "outputs": [],
   "source": [
    "system = read_gex_file(\"./2017/20170606_337m2_Cal_DualWaveform_60Hz_414_412_418.gex\")\n",
    "area = system['tx_area']\n",
    "waveform_hm = system['hm']['waveform']\n",
    "waveform_lm = system['lm']['waveform']\n",
    "time_input_currents_hm = waveform_hm[:,0] - waveform_hm[:,0].max()\n",
    "input_currents_hm = waveform_hm[:,1]\n",
    "time_input_currents_lm = waveform_lm[:,0] - waveform_lm[:,0].max()\n",
    "input_currents_lm = waveform_lm[:,1]\n",
    "times_lm = np.loadtxt('./2017/time_lm.txt')\n",
    "times_hm = np.loadtxt('./2017/time_hm.txt')"
   ]
  }
 ],
 "metadata": {
  "kernelspec": {
   "display_name": "Python 3 (ipykernel)",
   "language": "python",
   "name": "python3"
  },
  "language_info": {
   "codemirror_mode": {
    "name": "ipython",
    "version": 3
   },
   "file_extension": ".py",
   "mimetype": "text/x-python",
   "name": "python",
   "nbconvert_exporter": "python",
   "pygments_lexer": "ipython3",
   "version": "3.8.10"
  }
 },
 "nbformat": 4,
 "nbformat_minor": 5
}
